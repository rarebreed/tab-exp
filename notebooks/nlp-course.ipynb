{
 "cells": [
  {
   "cell_type": "code",
   "execution_count": null,
   "metadata": {},
   "outputs": [],
   "source": [
    "from transformers import AutoTokenizer\n",
    "\n",
    "checkpoint = \"distilbert-base-uncased-finetuned-sst-2-english\"\n",
    "tokenizer = AutoTokenizer.from_pretrained(checkpoint)"
   ]
  },
  {
   "cell_type": "code",
   "execution_count": null,
   "metadata": {},
   "outputs": [],
   "source": [
    "raw_inputs = [\n",
    "    \"I've been waiting for a HuggingFace course my whole life.\",\n",
    "    \"I hate this so much!\",\n",
    "]\n",
    "inputs = tokenizer(raw_inputs, padding=True, truncation=True, return_tensors=\"pt\")\n",
    "print(inputs)"
   ]
  },
  {
   "cell_type": "markdown",
   "metadata": {},
   "source": [
    "## Using a model\n",
    "\n",
    "- architecture: a blueprint of the mathematical functions and its layers (eg gpt or bert)\n",
    "- checkpoint: the weights loaded for a given architecture\n",
    "- model: can refer to an architecture or checkpoint\n",
    "\n",
    "As an example, BERT is an architecture and \"bert-base-cased-finetuned-mrpc\" is a checkpoint with a given set of weights,\n",
    "\n",
    "We can downloand a model from huggingface.  It contains only the base Transformer module: given some inputs, it outputs \n",
    "hidden states (also known as features). For each model input, we get a vector representing the contextual understanding\n",
    "by the Transformer model.\n",
    "\n",
    "> The hidden states are the weights in the hidden layers. These hidden states can be used as features for downstream \n",
    "> tasks.  They were learned by the model during pretraining without supervision."
   ]
  },
  {
   "cell_type": "code",
   "execution_count": null,
   "metadata": {},
   "outputs": [],
   "source": [
    "from transformers import AutoModel\n",
    "\n",
    "checkpoint = \"distilbert-base-uncased-finetuned-sst-2-english\"\n",
    "model = AutoModel.from_pretrained(checkpoint)"
   ]
  },
  {
   "cell_type": "markdown",
   "metadata": {},
   "source": [
    "## The head\n",
    "\n",
    "While hidden states (featurees) can be used on their own, usually, they are used in another part of the model called a \n",
    "head.  Different tasks like ner or summarization require different heads.\n",
    "\n",
    "### Output vector\n",
    "\n",
    "the vector output of a model is usually large and consists of:\n",
    "\n",
    "- batch size (number of samples in the batch, 2 in our example)\n",
    "- sequence length (length of the numerical representation of the sequence, 16 in our example)\n",
    "- hidden size (dimensionality of the hidden state, also known as embedding dimensionality)\n",
    "\n",
    "The head tahes the high dimensional output vector, and projects it to a different dimension usually smaller.  The \n",
    "smaller vector is used for downstream tasks.  The lower dimensions are usually composed of a few linear layers.\n"
   ]
  },
  {
   "cell_type": "code",
   "execution_count": null,
   "metadata": {},
   "outputs": [],
   "source": [
    "outputs = model(**inputs)\n",
    "print(outputs.last_hidden_state.shape)"
   ]
  }
 ],
 "metadata": {
  "kernelspec": {
   "display_name": "default",
   "language": "python",
   "name": "python3"
  },
  "language_info": {
   "codemirror_mode": {
    "name": "ipython",
    "version": 3
   },
   "file_extension": ".py",
   "mimetype": "text/x-python",
   "name": "python",
   "nbconvert_exporter": "python",
   "pygments_lexer": "ipython3",
   "version": "3.11.9"
  }
 },
 "nbformat": 4,
 "nbformat_minor": 2
}
